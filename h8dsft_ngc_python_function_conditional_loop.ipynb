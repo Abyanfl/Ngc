{
 "cells": [
  {
   "cell_type": "markdown",
   "id": "16636f92",
   "metadata": {},
   "source": [
    "Number of Word"
   ]
  },
  {
   "cell_type": "code",
   "execution_count": 1,
   "id": "167557d3",
   "metadata": {},
   "outputs": [],
   "source": [
    "def number_of_word(sentence):\n",
    "    words = sentence.split()  # Split the sentence into list of words\n",
    "    return len(words)         # Count and return the number of words\n"
   ]
  },
  {
   "cell_type": "code",
   "execution_count": 2,
   "id": "0385e75e",
   "metadata": {},
   "outputs": [
    {
     "name": "stdout",
     "output_type": "stream",
     "text": [
      "2\n",
      "8\n"
     ]
    }
   ],
   "source": [
    "print(number_of_word(sentence='Hello World!'))\n",
    "# Output: 2\n",
    "\n",
    "print(number_of_word(sentence='Once Upon a Time in a faraway land'))\n",
    "# Output: 8\n"
   ]
  },
  {
   "cell_type": "markdown",
   "id": "874e2704",
   "metadata": {},
   "source": [
    "Find Multiple"
   ]
  },
  {
   "cell_type": "code",
   "execution_count": 10,
   "id": "e2aec9c8",
   "metadata": {},
   "outputs": [],
   "source": [
    "def find_multiples(start_range, end_range, multiple):\n",
    "    multiples = []\n",
    "    for num in range(start_range, end_range + 1):\n",
    "        if num % multiple == 0:\n",
    "            multiples.append(num)\n",
    "    return multiples"
   ]
  },
  {
   "cell_type": "code",
   "execution_count": 12,
   "id": "1a9ff7ed",
   "metadata": {},
   "outputs": [
    {
     "name": "stdout",
     "output_type": "stream",
     "text": [
      "[5, 10, 15, 20]\n"
     ]
    }
   ],
   "source": [
    "print(find_multiples(start_range= 1, end_range= 20, multiple= 5))"
   ]
  },
  {
   "cell_type": "code",
   "execution_count": 14,
   "id": "1398fe91",
   "metadata": {},
   "outputs": [
    {
     "name": "stdout",
     "output_type": "stream",
     "text": [
      "[10, 20, 30, 40, 50]\n"
     ]
    }
   ],
   "source": [
    "print(find_multiples(start_range= 1, end_range= 50, multiple= 10))"
   ]
  },
  {
   "cell_type": "markdown",
   "id": "c4e6360a",
   "metadata": {},
   "source": [
    "Grade Converter"
   ]
  },
  {
   "cell_type": "code",
   "execution_count": 22,
   "id": "51509217",
   "metadata": {},
   "outputs": [],
   "source": [
    "def Grade_Converter(convert_to, **kwargs):\n",
    "    result = {}\n",
    "    for student, score in kwargs.items():\n",
    "        if convert_to == 'letter_grade':\n",
    "            if score >= 85:\n",
    "                grade = 'A'\n",
    "            elif score >= 70:\n",
    "                grade = 'B'\n",
    "            elif score >= 60:\n",
    "                grade = 'C'\n",
    "            else:\n",
    "                grade = 'D'\n",
    "        elif convert_to == 'gpa':\n",
    "            if score >= 85:\n",
    "                grade = 4\n",
    "            elif score >= 70:\n",
    "                grade = 3\n",
    "            elif score >= 60:\n",
    "                grade = 2.5\n",
    "            else:\n",
    "                grade = 2\n",
    "        else:\n",
    "            grade = None\n",
    "        result[student] = grade\n",
    "    return result\n"
   ]
  },
  {
   "cell_type": "code",
   "execution_count": 24,
   "id": "32d77c5e",
   "metadata": {},
   "outputs": [
    {
     "name": "stdout",
     "output_type": "stream",
     "text": [
      "{'Adam': 2.5, 'Faiz': 4}\n",
      "{'Albert': 'A', 'Dwi': 'B', 'Syahdan': 'D', 'Veronica': 'B'}\n"
     ]
    }
   ],
   "source": [
    "print(Grade_Converter(convert_to='gpa', Adam=62, Faiz=91))\n",
    "# Output: {'Adam': 2.5, 'Faiz': 4}\n",
    "\n",
    "print(Grade_Converter(convert_to='letter_grade', Albert=90, Dwi=82, Syahdan=58, Veronica=84))\n",
    "# Output: {'Albert': 'A', 'Dwi': 'B', 'Syahdan': 'D', 'Veronica': 'B'}\n"
   ]
  },
  {
   "cell_type": "markdown",
   "id": "9f72df0a",
   "metadata": {},
   "source": [
    "Fibonacci Sequence"
   ]
  },
  {
   "cell_type": "code",
   "execution_count": 26,
   "id": "c236bd18",
   "metadata": {},
   "outputs": [],
   "source": [
    "def my_function(n):\n",
    "    if n == 0:\n",
    "        return 0\n",
    "    elif n == 1:\n",
    "        return 1\n",
    "    else:\n",
    "        a, b = 0, 1\n",
    "        for _ in range(2, n+1):\n",
    "            a, b = b, a + b\n",
    "        return b\n"
   ]
  },
  {
   "cell_type": "code",
   "execution_count": 27,
   "id": "e6d6bd9c",
   "metadata": {},
   "outputs": [
    {
     "name": "stdout",
     "output_type": "stream",
     "text": [
      "0\n",
      "3\n",
      "55\n"
     ]
    }
   ],
   "source": [
    "print(my_function(0))  # Output: 0\n",
    "print(my_function(4))  # Output: 3\n",
    "print(my_function(10)) # Output: 55\n"
   ]
  }
 ],
 "metadata": {
  "kernelspec": {
   "display_name": "base",
   "language": "python",
   "name": "python3"
  },
  "language_info": {
   "codemirror_mode": {
    "name": "ipython",
    "version": 3
   },
   "file_extension": ".py",
   "mimetype": "text/x-python",
   "name": "python",
   "nbconvert_exporter": "python",
   "pygments_lexer": "ipython3",
   "version": "3.12.9"
  }
 },
 "nbformat": 4,
 "nbformat_minor": 5
}
