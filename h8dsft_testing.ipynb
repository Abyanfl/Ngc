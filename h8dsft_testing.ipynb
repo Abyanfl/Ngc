{
 "cells": [
  {
   "cell_type": "code",
   "execution_count": 1,
   "id": "23784b18",
   "metadata": {},
   "outputs": [
    {
     "name": "stderr",
     "output_type": "stream",
     "text": [
      "usage: ipykernel_launcher.py [-h] [-v] [-q] [--locals] [--durations N] [-f]\n",
      "                             [-c] [-b] [-k TESTNAMEPATTERNS]\n",
      "                             [tests ...]\n",
      "ipykernel_launcher.py: error: argument -f/--failfast: ignored explicit argument 'c:\\\\Users\\\\HP\\\\AppData\\\\Roaming\\\\jupyter\\\\runtime\\\\kernel-v37632d82b1e8f3427f8052abbda3ddc3009d2e85b.json'\n"
     ]
    },
    {
     "ename": "SystemExit",
     "evalue": "2",
     "output_type": "error",
     "traceback": [
      "An exception has occurred, use %tb to see the full traceback.\n",
      "\u001b[1;31mSystemExit\u001b[0m\u001b[1;31m:\u001b[0m 2\n"
     ]
    },
    {
     "name": "stderr",
     "output_type": "stream",
     "text": [
      "d:\\Miniconda\\Lib\\site-packages\\IPython\\core\\interactiveshell.py:3587: UserWarning: To exit: use 'exit', 'quit', or Ctrl-D.\n",
      "  warn(\"To exit: use 'exit', 'quit', or Ctrl-D.\", stacklevel=1)\n"
     ]
    }
   ],
   "source": [
    "import unittest\n",
    "\n",
    "# Misalnya ini file class kamu tadi, simpan di file library_catalog.py\n",
    "# from library_catalog import Book, LibraryCatalog\n",
    "\n",
    "# Karena kamu mau langsung, aku tuliskan kelasnya ulang singkat supaya self-contained buat testing:\n",
    "\n",
    "class Book:\n",
    "    def __init__(self, title, author, book_id):\n",
    "        self.title = title\n",
    "        self.author = author\n",
    "        self.book_id = book_id\n",
    "\n",
    "    def __str__(self):\n",
    "        return f\"[{self.book_id}] '{self.title}' by {self.author}\"\n",
    "\n",
    "class LibraryCatalog:\n",
    "    def __init__(self):\n",
    "        self.catalog = {}\n",
    "\n",
    "    def add_book(self, title, author, book_id):\n",
    "        if book_id in self.catalog:\n",
    "            raise Exception(f\"Book ID {book_id} already exists!\")\n",
    "        new_book = Book(title, author, book_id)\n",
    "        self.catalog[book_id] = new_book\n",
    "\n",
    "    def search_by_title(self, title):\n",
    "        return [book for book in self.catalog.values() if title.lower() in book.title.lower()]\n",
    "\n",
    "    def search_by_author(self, author):\n",
    "        return [book for book in self.catalog.values() if author.lower() in book.author.lower()]\n",
    "\n",
    "    def remove_book(self, book_id):\n",
    "        if book_id not in self.catalog:\n",
    "            raise Exception(f\"Book ID {book_id} not found!\")\n",
    "        return self.catalog.pop(book_id)\n",
    "\n",
    "    def display_books(self):\n",
    "        return list(self.catalog.values())\n",
    "\n",
    "# Now unit testing:\n",
    "\n",
    "class TestLibraryCatalog(unittest.TestCase):\n",
    "\n",
    "    def setUp(self):\n",
    "        self.library = LibraryCatalog()\n",
    "        self.library.add_book(\"The Great Gatsby\", \"F. Scott Fitzgerald\", 1)\n",
    "        self.library.add_book(\"1984\", \"George Orwell\", 2)\n",
    "        self.library.add_book(\"To Kill a Mockingbird\", \"Harper Lee\", 3)\n",
    "\n",
    "    def test_add_book(self):\n",
    "        self.library.add_book(\"New Book\", \"New Author\", 4)\n",
    "        self.assertEqual(self.library.catalog[4].title, \"New Book\")\n",
    "    \n",
    "    def test_add_book_duplicate_id(self):\n",
    "        with self.assertRaises(Exception) as context:\n",
    "            self.library.add_book(\"Duplicate Book\", \"Author\", 1)\n",
    "        self.assertTrue(\"already exists\" in str(context.exception))\n",
    "\n",
    "    def test_search_by_title(self):\n",
    "        results = self.library.search_by_title(\"1984\")\n",
    "        self.assertEqual(len(results), 1)\n",
    "        self.assertEqual(results[0].title, \"1984\")\n",
    "\n",
    "    def test_search_by_author(self):\n",
    "        results = self.library.search_by_author(\"George Orwell\")\n",
    "        self.assertEqual(len(results), 1)\n",
    "        self.assertEqual(results[0].author, \"George Orwell\")\n",
    "\n",
    "    def test_remove_book(self):\n",
    "        removed_book = self.library.remove_book(2)\n",
    "        self.assertEqual(removed_book.title, \"1984\")\n",
    "        self.assertNotIn(2, self.library.catalog)\n",
    "\n",
    "    def test_remove_nonexistent_book(self):\n",
    "        with self.assertRaises(Exception) as context:\n",
    "            self.library.remove_book(99)\n",
    "        self.assertTrue(\"not found\" in str(context.exception))\n",
    "\n",
    "    def test_display_books(self):\n",
    "        books = self.library.display_books()\n",
    "        self.assertEqual(len(books), 3)\n",
    "\n",
    "if __name__ == \"__main__\":\n",
    "    unittest.main()\n"
   ]
  }
 ],
 "metadata": {
  "kernelspec": {
   "display_name": "base",
   "language": "python",
   "name": "python3"
  },
  "language_info": {
   "codemirror_mode": {
    "name": "ipython",
    "version": 3
   },
   "file_extension": ".py",
   "mimetype": "text/x-python",
   "name": "python",
   "nbconvert_exporter": "python",
   "pygments_lexer": "ipython3",
   "version": "3.12.9"
  }
 },
 "nbformat": 4,
 "nbformat_minor": 5
}
